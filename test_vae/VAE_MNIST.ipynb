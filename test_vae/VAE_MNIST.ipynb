{
 "cells": [
  {
   "cell_type": "code",
   "execution_count": 25,
   "id": "5cac8bf9",
   "metadata": {},
   "outputs": [],
   "source": [
    "import torch\n",
    "import torch.nn as nn\n",
    "import torch.nn.functional as F\n",
    "from torchvision import datasets, transforms\n",
    "\n",
    "# Hyperparameters\n",
    "latent_size = 10\n",
    "batch_size = 32\n",
    "learning_rate = 0.001\n",
    "num_epochs = 10\n",
    "\n",
    "# Device\n",
    "device = torch.device(\"cuda\" if torch.cuda.is_available() else \"cpu\")"
   ]
  },
  {
   "cell_type": "code",
   "execution_count": 26,
   "id": "5fc1ce68",
   "metadata": {},
   "outputs": [],
   "source": [
    "# Data loading\n",
    "train_loader = torch.utils.data.DataLoader(\n",
    "    datasets.MNIST('./data', train=True, download=True,\n",
    "                   transform=transforms.ToTensor()),\n",
    "    batch_size=batch_size, shuffle=True)"
   ]
  },
  {
   "cell_type": "code",
   "execution_count": 32,
   "id": "e5229b28",
   "metadata": {},
   "outputs": [],
   "source": [
    "class VAE(nn.Module):\n",
    "    # ... (Implement encoder, decoder, reparameterize, and forward methods)\n",
    "    def __init__(self):\n",
    "        super(VAE, self).__init__()\n",
    "        # Encoder\n",
    "        self.encoder = nn.Sequential(\n",
    "            nn.Flatten(),  # Flatten input to 784\n",
    "            nn.Linear(784, 512),\n",
    "            nn.ReLU(),\n",
    "            nn.Linear(512, 256),\n",
    "            nn.ReLU(),\n",
    "            nn.Linear(256, 128),  # Adjust output dimension as needed\n",
    "        )\n",
    "        self.fc_mu = nn.Linear(128, latent_size)\n",
    "        self.fc_var = nn.Linear(128, latent_size)\n",
    "        \n",
    "        # Decoder\n",
    "        self.decoder = nn.Sequential(\n",
    "            nn.Linear(latent_size, 128),\n",
    "            nn.ReLU(),\n",
    "            nn.Linear(128, 256),\n",
    "            nn.ReLU(),\n",
    "            nn.Linear(256, 512),\n",
    "            nn.ReLU(),\n",
    "            nn.Linear(512, 784),\n",
    "            nn.Sigmoid()  # Output pixel values between 0 and 1\n",
    "        )\n",
    "\n",
    "    def encode(self, x):\n",
    "        return self.fc_mu(self.encoder(x)), self.fc_var(self.encoder(x))\n",
    "\n",
    "    def decode(self, z):\n",
    "        return self.decoder(z)\n",
    "    \n",
    "    def reparameterize(self, mu, logvar):\n",
    "        std = torch.exp(0.5 * logvar)\n",
    "        eps = torch.randn_like(std)\n",
    "        return mu + eps * std\n",
    "    \n",
    "    def forward(self, x):\n",
    "        mu, logvar = self.encode(x)\n",
    "        z = self.reparameterize(mu, logvar)\n",
    "        recon_x = self.decode(z)\n",
    "        recon_x = recon_x.view(-1, 1, 28, 28)  # Reshape to match input size\n",
    "        return recon_x, mu, logvar\n",
    "\n",
    "def loss_function(recon_x, x, mu, logvar):\n",
    "    reconstruction_loss = F.mse_loss(recon_x, x, reduction='sum')\n",
    "    # kl_divergence = -0.5 * torch.sum(1 + logvar - mu.pow(2) - logvar.exp())\n",
    "    kl_divergence = torch.tensor(0.0)\n",
    "    return reconstruction_loss + kl_divergence"
   ]
  },
  {
   "cell_type": "code",
   "execution_count": 33,
   "id": "7b57b0ed",
   "metadata": {},
   "outputs": [
    {
     "name": "stdout",
     "output_type": "stream",
     "text": [
      "Epoch [1/10], Step [100/469], Loss: 6181.0005\n",
      "Epoch [1/10], Step [200/469], Loss: 5731.0181\n",
      "Epoch [1/10], Step [300/469], Loss: 4543.7559\n",
      "Epoch [1/10], Step [400/469], Loss: 3709.3159\n",
      "Epoch [2/10], Step [100/469], Loss: 3023.7329\n",
      "Epoch [2/10], Step [200/469], Loss: 2892.3960\n",
      "Epoch [2/10], Step [300/469], Loss: 2617.1399\n",
      "Epoch [2/10], Step [400/469], Loss: 2326.7622\n",
      "Epoch [3/10], Step [100/469], Loss: 2186.1108\n",
      "Epoch [3/10], Step [200/469], Loss: 1966.6953\n",
      "Epoch [3/10], Step [300/469], Loss: 2130.7756\n",
      "Epoch [3/10], Step [400/469], Loss: 1653.4248\n",
      "Epoch [4/10], Step [100/469], Loss: 1798.9209\n",
      "Epoch [4/10], Step [200/469], Loss: 1866.7827\n",
      "Epoch [4/10], Step [300/469], Loss: 1908.2474\n",
      "Epoch [4/10], Step [400/469], Loss: 1792.4895\n",
      "Epoch [5/10], Step [100/469], Loss: 1545.4459\n",
      "Epoch [5/10], Step [200/469], Loss: 1589.6298\n",
      "Epoch [5/10], Step [300/469], Loss: 1456.7727\n",
      "Epoch [5/10], Step [400/469], Loss: 1554.9406\n",
      "Epoch [6/10], Step [100/469], Loss: 1545.1510\n",
      "Epoch [6/10], Step [200/469], Loss: 1465.9546\n",
      "Epoch [6/10], Step [300/469], Loss: 1501.9376\n",
      "Epoch [6/10], Step [400/469], Loss: 1448.5898\n",
      "Epoch [7/10], Step [100/469], Loss: 1291.2617\n",
      "Epoch [7/10], Step [200/469], Loss: 1506.8428\n",
      "Epoch [7/10], Step [300/469], Loss: 1313.0746\n",
      "Epoch [7/10], Step [400/469], Loss: 1391.9513\n",
      "Epoch [8/10], Step [100/469], Loss: 1413.2197\n",
      "Epoch [8/10], Step [200/469], Loss: 1402.8695\n",
      "Epoch [8/10], Step [300/469], Loss: 1319.5706\n",
      "Epoch [8/10], Step [400/469], Loss: 1406.9282\n",
      "Epoch [9/10], Step [100/469], Loss: 1402.6151\n",
      "Epoch [9/10], Step [200/469], Loss: 1274.1741\n",
      "Epoch [9/10], Step [300/469], Loss: 1310.8361\n",
      "Epoch [9/10], Step [400/469], Loss: 1289.3119\n",
      "Epoch [10/10], Step [100/469], Loss: 1316.6864\n",
      "Epoch [10/10], Step [200/469], Loss: 1264.5692\n",
      "Epoch [10/10], Step [300/469], Loss: 1249.6377\n",
      "Epoch [10/10], Step [400/469], Loss: 1213.4911\n"
     ]
    }
   ],
   "source": [
    "# Initialize model and optimizer\n",
    "model = VAE().to(device)\n",
    "optimizer = torch.optim.Adam(model.parameters(), lr=learning_rate)\n",
    "mse_loss = nn.MSELoss()\n",
    "\n",
    "for epoch in range(num_epochs):\n",
    "    for i, (x, _) in enumerate(train_loader):\n",
    "        x = x.to(device)\n",
    "\n",
    "        recon_batch, mu, logvar = model(x)\n",
    "        loss = loss_function(recon_batch, x, mu, logvar)\n",
    "\n",
    "        optimizer.zero_grad()\n",
    "        loss.backward()\n",
    "        optimizer.step()\n",
    "\n",
    "        if (i + 1) % 100 == 0:\n",
    "            print('Epoch [{}/{}], Step [{}/{}], Loss: {:.4f}'\n",
    "                      .format(epoch + 1, num_epochs, i + 1, len(train_loader), loss.item()))"
   ]
  },
  {
   "cell_type": "code",
   "execution_count": null,
   "id": "4625e3e1",
   "metadata": {},
   "outputs": [],
   "source": []
  }
 ],
 "metadata": {
  "kernelspec": {
   "display_name": "Python 3.9.13 ('base')",
   "language": "python",
   "name": "python3"
  },
  "language_info": {
   "codemirror_mode": {
    "name": "ipython",
    "version": 3
   },
   "file_extension": ".py",
   "mimetype": "text/x-python",
   "name": "python",
   "nbconvert_exporter": "python",
   "pygments_lexer": "ipython3",
   "version": "3.9.13"
  },
  "vscode": {
   "interpreter": {
    "hash": "7ea0d2cdcdbd6ff935c645dba1d1c8e7102c36634af93911a7a85d06271a8c78"
   }
  }
 },
 "nbformat": 4,
 "nbformat_minor": 5
}
